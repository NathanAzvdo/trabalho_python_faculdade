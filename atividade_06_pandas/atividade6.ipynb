{
 "cells": [
  {
   "cell_type": "markdown",
   "id": "6a60c5c2",
   "metadata": {},
   "source": [
    "6) Aplicação da biblioteca Pandas: Utilize os dados públicos da série histórica climática no arquivo \n",
    "“Dados_climaticos_historicos.xlsx”, contendo 2 abas de dados para as cidades de Macaé e Rio de Janeiro. Faça: \n",
    "a) Ler o referido arquivo xlsx com controle de acesso às abas desejadas, permitindo estruturar Pandas DataFrames. \n",
    "Ou seja, um DataFrame para cada cidade. \n",
    "b) Extrair um conjunto de dados específicos a partir de um DataFrame para fins de cálculos. Por exemplo, computar \n",
    "média anual para cada conjunto de registro de temperaturas mínima, máxima e média registradas nos meses janeiro \n",
    "a dezembro. Demonstrar para cada cidade. \n",
    "c)  Demonstrar  análises  de dados para responder as questões sobre as cidades: mês  de maior temperatura, mês de \n",
    "menor temperatura, mês mais chuvoso, mês menos chuvoso, acumulado de chuva (mm) anual, e qual cidade é mais \n",
    "úmida?  \n",
    "d) Salvar os dados de análises da questão anterior gerando um relatório em um novo arquivo xlsx. \n",
    "Dica: Pesquise a documentação da referida biblioteca: https://pandas.pydata.org/docs/index.html \n",
    "> Objetiva estudo e aplicação da biblioteca Pandas. \n"
   ]
  },
  {
   "cell_type": "code",
   "execution_count": 3,
   "id": "2cf89bdc",
   "metadata": {},
   "outputs": [
    {
     "name": "stdout",
     "output_type": "stream",
     "text": [
      "           Media_Temp_C  Minima_Temp_C  Maxima_Temp_C\n",
      "Janeiro            25.8           23.5           29.1\n",
      "Fevereiro          26.0           23.6           29.5\n",
      "Março              25.5           23.3           28.5\n",
      "Abril              24.1           21.9           27.1\n",
      "Maio               22.0           19.6           25.0\n",
      "Junho              21.2           18.5           24.5\n",
      "Julho              20.7           17.9           24.2\n",
      "Agosto             21.0           18.3           24.7\n",
      "Setembro           21.8           19.2           25.5\n",
      "Outubro            22.9           20.5           26.4\n",
      "Novembro           23.5           21.4           26.5\n",
      "Dezembro           24.9           22.7           28.0\n",
      "           Media_Temp_C  Minima_Temp_C  Maxima_Temp_C\n",
      "Janeiro            26.7           23.3           31.2\n",
      "Fevereiro          27.0           23.3           31.7\n",
      "Março              25.9           22.7           30.2\n",
      "Abril              24.3           21.1           28.5\n",
      "Maio               21.8           18.2           26.2\n",
      "Junho              20.8           16.8           25.8\n",
      "Julho              20.1           16.0           25.4\n",
      "Agosto             20.9           16.5           26.5\n",
      "Setembro           22.2           18.1           27.5\n",
      "Outubro            23.7           20.0           28.6\n",
      "Novembro           24.2           21.0           28.5\n",
      "Dezembro           25.8           22.4           30.1\n"
     ]
    }
   ],
   "source": [
    "import pandas as pd\n",
    "\n",
    "df_macae = pd.read_excel(\n",
    "    \"../data/Dados_climaticos_historicos.xlsx\", \n",
    "    sheet_name=\"Historico_Clima_Macae\", \n",
    "    skiprows=3,\n",
    "    index_col=0,\n",
    "    engine=\"openpyxl\"\n",
    ")\n",
    "\n",
    "df_rio = pd.read_excel(\n",
    "    \"../data/Dados_climaticos_historicos.xlsx\", \n",
    "    sheet_name=\"Historico_Clima_Rio_de_Janeiro\", \n",
    "    skiprows=3,\n",
    "    index_col=0,\n",
    "    engine=\"openpyxl\"\n",
    ")\n",
    "\n",
    "df_macae = df_macae.iloc[:3, :]\n",
    "df_rio = df_rio.iloc[:3, :]\n",
    "\n",
    "df_macae = df_macae.T\n",
    "df_rio = df_rio.T\n",
    "\n",
    "\n",
    "df_macae.columns = [\n",
    "    \"Media_Temp_C\", \n",
    "    \"Minima_Temp_C\", \n",
    "    \"Maxima_Temp_C\", \n",
    "]\n",
    "df_rio.columns = [\n",
    "    \"Media_Temp_C\", \n",
    "    \"Minima_Temp_C\", \n",
    "    \"Maxima_Temp_C\", \n",
    "]\n",
    "\n",
    "print(df_macae)\n",
    "print(df_rio)\n",
    "\n"
   ]
  }
 ],
 "metadata": {
  "kernelspec": {
   "display_name": "analise_clima",
   "language": "python",
   "name": "python3"
  },
  "language_info": {
   "codemirror_mode": {
    "name": "ipython",
    "version": 3
   },
   "file_extension": ".py",
   "mimetype": "text/x-python",
   "name": "python",
   "nbconvert_exporter": "python",
   "pygments_lexer": "ipython3",
   "version": "3.10.18"
  }
 },
 "nbformat": 4,
 "nbformat_minor": 5
}
