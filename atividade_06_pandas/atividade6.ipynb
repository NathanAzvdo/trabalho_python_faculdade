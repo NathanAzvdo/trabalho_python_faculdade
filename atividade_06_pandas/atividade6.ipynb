{
 "cells": [
  {
   "cell_type": "markdown",
   "id": "6a60c5c2",
   "metadata": {},
   "source": [
    "6) Aplicação da biblioteca Pandas: Utilize os dados públicos da série histórica climática no arquivo \n",
    "“Dados_climaticos_historicos.xlsx”, contendo 2 abas de dados para as cidades de Macaé e Rio de Janeiro. Faça: <br>\n",
    "a) Ler o referido arquivo xlsx com controle de acesso às abas desejadas, permitindo estruturar Pandas DataFrames. \n",
    "Ou seja, um DataFrame para cada cidade.<br> \n",
    "b) Extrair um conjunto de dados específicos a partir de um DataFrame para fins de cálculos. Por exemplo, computar \n",
    "média anual para cada conjunto de registro de temperaturas mínima, máxima e média registradas nos meses janeiro \n",
    "a dezembro. Demonstrar para cada cidade.<br> \n",
    "c)  Demonstrar  análises  de dados para responder as questões sobre as cidades: mês  de maior temperatura, mês de \n",
    "menor temperatura, mês mais chuvoso, mês menos chuvoso, acumulado de chuva (mm) anual, e qual cidade é mais \n",
    "úmida?<br>  \n",
    "d) Salvar os dados de análises da questão anterior gerando um relatório em um novo arquivo xlsx. \n",
    "Dica: Pesquise a documentação da referida biblioteca: https://pandas.pydata.org/docs/index.html<br> \n",
    "> Objetiva estudo e aplicação da biblioteca Pandas. \n"
   ]
  },
  {
   "cell_type": "code",
   "execution_count": 6,
   "id": "a35bfe0c",
   "metadata": {},
   "outputs": [],
   "source": [
    "import pandas as pd\n",
    "import analise_lib as palib"
   ]
  },
  {
   "cell_type": "markdown",
   "id": "3c65c08b",
   "metadata": {},
   "source": [
    "### a) Carregando e Preparando os Dados\n",
    "\n",
    "Utilizamos a função `carregar_e_preparar_dados_climaticos` da nossa biblioteca para ler o arquivo Excel, selecionar os dados corretos, transpor e renomear as colunas, retornando dois DataFrames prontos para a análise."
   ]
  },
  {
   "cell_type": "code",
   "execution_count": 7,
   "id": "8e8b00e7",
   "metadata": {},
   "outputs": [
    {
     "name": "stdout",
     "output_type": "stream",
     "text": [
      "--- Dados de Macaé ---\n"
     ]
    },
    {
     "data": {
      "text/html": [
       "<div>\n",
       "<style scoped>\n",
       "    .dataframe tbody tr th:only-of-type {\n",
       "        vertical-align: middle;\n",
       "    }\n",
       "\n",
       "    .dataframe tbody tr th {\n",
       "        vertical-align: top;\n",
       "    }\n",
       "\n",
       "    .dataframe thead th {\n",
       "        text-align: right;\n",
       "    }\n",
       "</style>\n",
       "<table border=\"1\" class=\"dataframe\">\n",
       "  <thead>\n",
       "    <tr style=\"text-align: right;\">\n",
       "      <th></th>\n",
       "      <th>Media_Temp_C</th>\n",
       "      <th>Minima_Temp_C</th>\n",
       "      <th>Maxima_Temp_C</th>\n",
       "      <th>Chuva (mm)</th>\n",
       "      <th>Umidade(%)</th>\n",
       "      <th>Dias chuvosos (d)</th>\n",
       "    </tr>\n",
       "  </thead>\n",
       "  <tbody>\n",
       "    <tr>\n",
       "      <th>Janeiro</th>\n",
       "      <td>25.8</td>\n",
       "      <td>23.5</td>\n",
       "      <td>29.1</td>\n",
       "      <td>175.0</td>\n",
       "      <td>0.81</td>\n",
       "      <td>11.0</td>\n",
       "    </tr>\n",
       "    <tr>\n",
       "      <th>Fevereiro</th>\n",
       "      <td>26.0</td>\n",
       "      <td>23.6</td>\n",
       "      <td>29.5</td>\n",
       "      <td>105.0</td>\n",
       "      <td>0.81</td>\n",
       "      <td>9.0</td>\n",
       "    </tr>\n",
       "    <tr>\n",
       "      <th>Março</th>\n",
       "      <td>25.5</td>\n",
       "      <td>23.3</td>\n",
       "      <td>28.5</td>\n",
       "      <td>154.0</td>\n",
       "      <td>0.83</td>\n",
       "      <td>12.0</td>\n",
       "    </tr>\n",
       "    <tr>\n",
       "      <th>Abril</th>\n",
       "      <td>24.1</td>\n",
       "      <td>21.9</td>\n",
       "      <td>27.1</td>\n",
       "      <td>85.0</td>\n",
       "      <td>0.82</td>\n",
       "      <td>10.0</td>\n",
       "    </tr>\n",
       "    <tr>\n",
       "      <th>Maio</th>\n",
       "      <td>22.0</td>\n",
       "      <td>19.6</td>\n",
       "      <td>25.0</td>\n",
       "      <td>60.0</td>\n",
       "      <td>0.80</td>\n",
       "      <td>8.0</td>\n",
       "    </tr>\n",
       "  </tbody>\n",
       "</table>\n",
       "</div>"
      ],
      "text/plain": [
       "           Media_Temp_C  Minima_Temp_C  Maxima_Temp_C  Chuva (mm)  Umidade(%)  \\\n",
       "Janeiro            25.8           23.5           29.1       175.0        0.81   \n",
       "Fevereiro          26.0           23.6           29.5       105.0        0.81   \n",
       "Março              25.5           23.3           28.5       154.0        0.83   \n",
       "Abril              24.1           21.9           27.1        85.0        0.82   \n",
       "Maio               22.0           19.6           25.0        60.0        0.80   \n",
       "\n",
       "           Dias chuvosos (d)  \n",
       "Janeiro                 11.0  \n",
       "Fevereiro                9.0  \n",
       "Março                   12.0  \n",
       "Abril                   10.0  \n",
       "Maio                     8.0  "
      ]
     },
     "metadata": {},
     "output_type": "display_data"
    },
    {
     "name": "stdout",
     "output_type": "stream",
     "text": [
      "\n",
      "--- Dados do Rio de Janeiro ---\n"
     ]
    },
    {
     "data": {
      "text/html": [
       "<div>\n",
       "<style scoped>\n",
       "    .dataframe tbody tr th:only-of-type {\n",
       "        vertical-align: middle;\n",
       "    }\n",
       "\n",
       "    .dataframe tbody tr th {\n",
       "        vertical-align: top;\n",
       "    }\n",
       "\n",
       "    .dataframe thead th {\n",
       "        text-align: right;\n",
       "    }\n",
       "</style>\n",
       "<table border=\"1\" class=\"dataframe\">\n",
       "  <thead>\n",
       "    <tr style=\"text-align: right;\">\n",
       "      <th></th>\n",
       "      <th>Media_Temp_C</th>\n",
       "      <th>Minima_Temp_C</th>\n",
       "      <th>Maxima_Temp_C</th>\n",
       "      <th>Chuva (mm)</th>\n",
       "      <th>Umidade(%)</th>\n",
       "      <th>Dias chuvosos (d)</th>\n",
       "    </tr>\n",
       "  </thead>\n",
       "  <tbody>\n",
       "    <tr>\n",
       "      <th>Janeiro</th>\n",
       "      <td>26.7</td>\n",
       "      <td>23.3</td>\n",
       "      <td>31.2</td>\n",
       "      <td>172.0</td>\n",
       "      <td>0.79</td>\n",
       "      <td>12.0</td>\n",
       "    </tr>\n",
       "    <tr>\n",
       "      <th>Fevereiro</th>\n",
       "      <td>27.0</td>\n",
       "      <td>23.3</td>\n",
       "      <td>31.7</td>\n",
       "      <td>117.0</td>\n",
       "      <td>0.78</td>\n",
       "      <td>10.0</td>\n",
       "    </tr>\n",
       "    <tr>\n",
       "      <th>Março</th>\n",
       "      <td>25.9</td>\n",
       "      <td>22.7</td>\n",
       "      <td>30.2</td>\n",
       "      <td>153.0</td>\n",
       "      <td>0.81</td>\n",
       "      <td>12.0</td>\n",
       "    </tr>\n",
       "    <tr>\n",
       "      <th>Abril</th>\n",
       "      <td>24.3</td>\n",
       "      <td>21.1</td>\n",
       "      <td>28.5</td>\n",
       "      <td>99.0</td>\n",
       "      <td>0.81</td>\n",
       "      <td>10.0</td>\n",
       "    </tr>\n",
       "    <tr>\n",
       "      <th>Maio</th>\n",
       "      <td>21.8</td>\n",
       "      <td>18.2</td>\n",
       "      <td>26.2</td>\n",
       "      <td>81.0</td>\n",
       "      <td>0.81</td>\n",
       "      <td>9.0</td>\n",
       "    </tr>\n",
       "  </tbody>\n",
       "</table>\n",
       "</div>"
      ],
      "text/plain": [
       "           Media_Temp_C  Minima_Temp_C  Maxima_Temp_C  Chuva (mm)  Umidade(%)  \\\n",
       "Janeiro            26.7           23.3           31.2       172.0        0.79   \n",
       "Fevereiro          27.0           23.3           31.7       117.0        0.78   \n",
       "Março              25.9           22.7           30.2       153.0        0.81   \n",
       "Abril              24.3           21.1           28.5        99.0        0.81   \n",
       "Maio               21.8           18.2           26.2        81.0        0.81   \n",
       "\n",
       "           Dias chuvosos (d)  \n",
       "Janeiro                 12.0  \n",
       "Fevereiro               10.0  \n",
       "Março                   12.0  \n",
       "Abril                   10.0  \n",
       "Maio                     9.0  "
      ]
     },
     "metadata": {},
     "output_type": "display_data"
    }
   ],
   "source": [
    "ARQUIVO_ENTRADA = \"../data/Dados_climaticos_historicos.xlsx\"\n",
    "\n",
    "df_macae, df_rio = palib.carregar_e_preparar_dados_climaticos(ARQUIVO_ENTRADA)\n",
    "\n",
    "print(\"--- Dados de Macaé ---\")\n",
    "display(df_macae.head())\n",
    "\n",
    "print(\"\\n--- Dados do Rio de Janeiro ---\")\n",
    "display(df_rio.head())"
   ]
  },
  {
   "cell_type": "markdown",
   "id": "fddf112c",
   "metadata": {},
   "source": [
    "### b) Média Anual das Temperaturas\n",
    "\n",
    "A função `calcular_medias_anuais_temperatura` é chamada para computar a média das três colunas de temperatura para cada cidade."
   ]
  },
  {
   "cell_type": "code",
   "execution_count": 8,
   "id": "8e181f9f",
   "metadata": {},
   "outputs": [
    {
     "name": "stdout",
     "output_type": "stream",
     "text": [
      "Médias anuais - Macaé:\n",
      "Media_Temp_C     23.28\n",
      "Minima_Temp_C    20.87\n",
      "Maxima_Temp_C    26.58\n",
      "dtype: float64\n",
      "\n",
      "Médias anuais - Rio de Janeiro:\n",
      "Media_Temp_C     23.62\n",
      "Minima_Temp_C    19.95\n",
      "Maxima_Temp_C    28.35\n",
      "dtype: float64\n"
     ]
    }
   ],
   "source": [
    "medias_anuais_macae, medias_anuais_rio = palib.calcular_medias_anuais_temperatura(df_macae, df_rio)\n",
    "\n",
    "print(\"Médias anuais - Macaé:\")\n",
    "print(medias_anuais_macae)\n",
    "\n",
    "print(\"\\nMédias anuais - Rio de Janeiro:\")\n",
    "print(medias_anuais_rio)"
   ]
  },
  {
   "cell_type": "markdown",
   "id": "aac9ab8f",
   "metadata": {},
   "source": [
    "### c) Análise Climática Detalhada\n",
    "\n",
    "A função `realizar_analise_detalhada_clima` executa todos os cálculos necessários para responder às perguntas sobre os meses com eventos extremos de clima e a umidade comparativa."
   ]
  },
  {
   "cell_type": "code",
   "execution_count": 9,
   "id": "7f20e5cf",
   "metadata": {},
   "outputs": [
    {
     "name": "stdout",
     "output_type": "stream",
     "text": [
      "\n",
      "Macaé:\n",
      "Mês de maior temperatura: Fevereiro\n",
      "Mês de menor temperatura: Julho\n",
      "Mês mais chuvoso: Dezembro\n",
      "Mês menos chuvoso: Junho\n",
      "Acumulado de chuva anual (mm): 1222.0\n",
      "Umidade média anual: 0.81\n",
      "\n",
      "Rio de Janeiro:\n",
      "Mês de maior temperatura: Fevereiro\n",
      "Mês de menor temperatura: Julho\n",
      "Mês mais chuvoso: Janeiro\n",
      "Mês menos chuvoso: Agosto\n",
      "Acumulado de chuva anual (mm): 1252.0\n",
      "Umidade média anual: 0.79\n",
      "\n",
      "Cidade mais úmida: Macaé\n"
     ]
    }
   ],
   "source": [
    "# Realiza a análise detalhada e obtém os resultados\n",
    "analise_macae, analise_rio, cidade_mais_umida = palib.realizar_analise_detalhada_clima(df_macae, df_rio)\n",
    "\n",
    "# Exibe os resultados formatados\n",
    "print(\"\\nMacaé:\")\n",
    "print(f\"Mês de maior temperatura: {analise_macae['mes_maior_temp']}\")\n",
    "print(f\"Mês de menor temperatura: {analise_macae['mes_menor_temp']}\")\n",
    "print(f\"Mês mais chuvoso: {analise_macae['mes_mais_chuvoso']}\")\n",
    "print(f\"Mês menos chuvoso: {analise_macae['mes_menos_chuvoso']}\")\n",
    "print(f\"Acumulado de chuva anual (mm): {analise_macae['chuva_anual']:.1f}\")\n",
    "print(f\"Umidade média anual: {analise_macae['umidade_media']:.2f}\")\n",
    "\n",
    "print(\"\\nRio de Janeiro:\")\n",
    "print(f\"Mês de maior temperatura: {analise_rio['mes_maior_temp']}\")\n",
    "print(f\"Mês de menor temperatura: {analise_rio['mes_menor_temp']}\")\n",
    "print(f\"Mês mais chuvoso: {analise_rio['mes_mais_chuvoso']}\")\n",
    "print(f\"Mês menos chuvoso: {analise_rio['mes_menos_chuvoso']}\")\n",
    "print(f\"Acumulado de chuva anual (mm): {analise_rio['chuva_anual']:.1f}\")\n",
    "print(f\"Umidade média anual: {analise_rio['umidade_media']:.2f}\")\n",
    "\n",
    "print(f\"\\nCidade mais úmida: {cidade_mais_umida}\")"
   ]
  },
  {
   "cell_type": "markdown",
   "id": "4e43daf4",
   "metadata": {},
   "source": [
    "### d) Geração do Relatório em Excel\n",
    "\n",
    "Finalmente, passamos todos os DataFrames e resultados calculados para a função `gerar_relatorio_excel`, que monta e salva o arquivo `.xlsx` final com todas as abas."
   ]
  },
  {
   "cell_type": "code",
   "execution_count": 10,
   "id": "01596de7",
   "metadata": {},
   "outputs": [
    {
     "name": "stdout",
     "output_type": "stream",
     "text": [
      "Relatório '../outputs/Relatorio_Analise_Climatica.xlsx' gerado com sucesso!\n"
     ]
    }
   ],
   "source": [
    "ARQUIVO_SAIDA = \"../outputs/Relatorio_Analise_Climatica.xlsx\"\n",
    "\n",
    "palib.gerar_relatorio_excel(\n",
    "    ARQUIVO_SAIDA,\n",
    "    df_macae,\n",
    "    df_rio,\n",
    "    medias_anuais_macae,\n",
    "    medias_anuais_rio,\n",
    "    analise_macae,\n",
    "    analise_rio,\n",
    "    cidade_mais_umida\n",
    ")\n",
    "\n",
    "print(f\"Relatório '{ARQUIVO_SAIDA}' gerado com sucesso!\")"
   ]
  }
 ],
 "metadata": {
  "kernelspec": {
   "display_name": "analise_clima",
   "language": "python",
   "name": "python3"
  },
  "language_info": {
   "codemirror_mode": {
    "name": "ipython",
    "version": 3
   },
   "file_extension": ".py",
   "mimetype": "text/x-python",
   "name": "python",
   "nbconvert_exporter": "python",
   "pygments_lexer": "ipython3",
   "version": "3.10.18"
  }
 },
 "nbformat": 4,
 "nbformat_minor": 5
}
