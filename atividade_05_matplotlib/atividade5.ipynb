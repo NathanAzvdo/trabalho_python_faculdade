{
 "cells": [
  {
   "cell_type": "markdown",
   "id": "f8632a10",
   "metadata": {},
   "source": [
    "5) Com base nos arquivos ASCII gerados anteriormente com as temperaturas das cidades Macaé e Rio de Janeiro, \n",
    "aplique a biblioteca Matplotlib para produzir os seguintes gráficos: \n",
    "a)  Plot  (gráfico  cartesiano  2D)  entre  número  dos  meses  (1  a  12)  no  eixo  X  e  multilinhas  de  temperaturas  mínima, \n",
    "máxima  e  média  (3  curvas  no  mesmo  gráfico).  Use  “marcadores  com  linhas”  para  representação  das  curvas  de \n",
    "temperaturas mínima e máxima; e, apenas “marcadores” para curva de temperatura média. Acerte a legenda, títulos \n",
    "de eixos adequadamente, e título do gráfico para cada cidade (Macaé e Rio de Janeiro), realizando assim 2 plots de \n",
    "dados  separados  com  as  mesmas  características.  Em  seguida,  demonstre  como  salvar  os  gráficos  como  figuras \n",
    "(savefig). \n",
    "b)  Gráfico  de  barras  (bar)  agrupado,  permitindo  analisar  as  diferenças  entre  as  temperaturas  médias  das  cidades \n",
    "Macaé e Rio de Janeiro ao longo dos 12 meses. Formate legenda, títulos de eixos e título do gráfico adequadamente. \n",
    "Demonstre como salvar o gráfico em figura. Dica de exemplo: \n",
    "https://matplotlib.org/stable/gallery/lines_bars_and_markers/barchart.html#sphx-glr-gallery-lines-bars-and-\n",
    "markers-barchart-py \n",
    "> Objetiva uso de biblioteca Matplotlib."
   ]
  }
 ],
 "metadata": {
  "language_info": {
   "name": "python"
  }
 },
 "nbformat": 4,
 "nbformat_minor": 5
}
