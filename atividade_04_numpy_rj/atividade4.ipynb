{
 "cells": [
  {
   "cell_type": "markdown",
   "id": "137e5ded",
   "metadata": {},
   "source": [
    "4) Aplicação da biblioteca NumPy: crie um arquivo ASCII com as temperaturas mínima, máxima e média para cidade \n",
    "Rio de Janeiro (arquivo “Dados_climaticos_historicos.xlsx”), organizado por colunas. Assim, demonstre o comando \n",
    "numpy.loadtxt para carga de dados e geração de um NumPy array de dimensão: 12 x 3 (12 linhas de registro mensais \n",
    "por 3 colunas de temperaturas).       Em seguida, realize print certificando a dimensão (shape) do array, a ocorrência \n",
    "do máximo e mínimo valor na coluna de temperatura média. Após, simule as seguintes operações: argsort, reshape, \n",
    "transpose, concatenate, split, flip, insert, append, delete."
   ]
  },
  {
   "cell_type": "markdown",
   "id": "d48d410b",
   "metadata": {},
   "source": [
    "## Importação de Bibliotecas\n",
    "\n",
    "Importamos a biblioteca **NumPy** para manipulação dos dados e a nossa biblioteca customizada **`numpy_operacoes_lib`** para as tarefas de preparação e análise dos dados."
   ]
  },
  {
   "cell_type": "code",
   "execution_count": 8,
   "id": "0ef5df5e",
   "metadata": {},
   "outputs": [],
   "source": [
    "import numpy as np\n",
    "import operacoes_lib as nplib"
   ]
  },
  {
   "cell_type": "markdown",
   "id": "ab6779cb",
   "metadata": {},
   "source": [
    "## 1. Preparação e Carregamento dos Dados\n",
    "\n",
    "Primeiro, definimos nossas constantes. Em seguida, usamos as funções da nossa biblioteca para:\n",
    "1.  Ler o arquivo Excel e gerar um arquivo de texto (`.txt`) com 4 colunas (incluindo os meses), exatamente como no notebook original.\n",
    "2.  Carregar os dados deste `.txt` diretamente para um array NumPy, ignorando a primeira coluna de texto."
   ]
  },
  {
   "cell_type": "code",
   "execution_count": 10,
   "id": "e13e842d",
   "metadata": {},
   "outputs": [
    {
     "name": "stdout",
     "output_type": "stream",
     "text": [
      "Arquivo '../outputs/Dados_climaticos_historicos_rio.txt' gerado com sucesso!\n",
      "\n",
      "Shape do array gerado:\n",
      "(12, 3)\n"
     ]
    }
   ],
   "source": [
    "# --- Constantes ---\n",
    "ARQUIVO_EXCEL = '../data/Dados_climaticos_historicos.xlsx'\n",
    "NOME_PLANILHA = 'Historico_Clima_Rio_de_Janeiro'\n",
    "ARQUIVO_TXT_SAIDA = '../outputs/Dados_climaticos_historicos_rio.txt'\n",
    "\n",
    "# 1. Gera o arquivo de texto a partir do Excel, mantendo a coluna de meses\n",
    "nplib.gerar_arquivo_txt_com_mes(ARQUIVO_EXCEL, NOME_PLANILHA, ARQUIVO_TXT_SAIDA)\n",
    "print(f\"Arquivo '{ARQUIVO_TXT_SAIDA}' gerado com sucesso!\")\n",
    "\n",
    "# 2. Carrega os dados do arquivo de texto para um array NumPy\n",
    "dados_climaticos_rio = nplib.carregar_dados_climaticos_numpy(ARQUIVO_TXT_SAIDA)\n",
    "\n",
    "# Certificando a dimensão (shape) do array\n",
    "print(\"\\nShape do array gerado:\")\n",
    "print(dados_climaticos_rio.shape)"
   ]
  },
  {
   "cell_type": "markdown",
   "id": "c85ede44",
   "metadata": {},
   "source": [
    "## 2. Análise de Máximo e Mínimo\n",
    "\n",
    "Com o array carregado, utilizamos a função de análise para encontrar a maior e a menor temperatura média registrada."
   ]
  },
  {
   "cell_type": "code",
   "execution_count": 11,
   "id": "ee8e27a1",
   "metadata": {},
   "outputs": [
    {
     "name": "stdout",
     "output_type": "stream",
     "text": [
      "Maior valor da temperatura média: 27.0\n",
      "Menor valor da temperatura média: 20.1\n"
     ]
    }
   ],
   "source": [
    "# Encontra os valores máximo e mínimo da coluna de médias (índice 2)\n",
    "maior_media, menor_media = nplib.analisar_temperatura_media(dados_climaticos_rio)\n",
    "\n",
    "print(f\"Maior valor da temperatura média: {maior_media}\")\n",
    "print(f\"Menor valor da temperatura média: {menor_media}\")"
   ]
  },
  {
   "cell_type": "markdown",
   "id": "9b4e6619",
   "metadata": {},
   "source": [
    "## 3. Simulação de Operações NumPy\n",
    "\n",
    "A seguir, aplicamos diversos métodos do NumPy para demonstrar suas funcionalidades de manipulação de arrays."
   ]
  },
  {
   "cell_type": "markdown",
   "id": "1575052f",
   "metadata": {},
   "source": [
    "### `argsort`\n",
    "Retorna os índices que ordenariam a coluna de temperatura média (coluna 2), do menor para o maior."
   ]
  },
  {
   "cell_type": "code",
   "execution_count": 12,
   "id": "daf23457",
   "metadata": {},
   "outputs": [
    {
     "name": "stdout",
     "output_type": "stream",
     "text": [
      "Índices que ordenam a coluna de temperatura média:\n",
      "[ 6  5  7  4  8  9 10  3 11  2  0  1]\n"
     ]
    }
   ],
   "source": [
    "indices_ordenados = np.argsort(dados_climaticos_rio[:, 2])\n",
    "print(\"Índices que ordenam a coluna de temperatura média:\")\n",
    "print(indices_ordenados)"
   ]
  },
  {
   "cell_type": "markdown",
   "id": "6c35ab30",
   "metadata": {},
   "source": [
    "### `reshape`\n",
    "Transformamos o array `(12, 3)` em um novo formato `(6, 6)`. Como o novo formato é maior, o `np.resize` repete os dados do array original para preencher o espaço."
   ]
  },
  {
   "cell_type": "code",
   "execution_count": 13,
   "id": "ce0f672f",
   "metadata": {},
   "outputs": [
    {
     "name": "stdout",
     "output_type": "stream",
     "text": [
      "Array redimensionado para (6, 6):\n",
      " [[23.3 31.2 26.7 23.3 31.7 27. ]\n",
      " [22.7 30.2 25.9 21.1 28.5 24.3]\n",
      " [18.2 26.2 21.8 16.8 25.8 20.8]\n",
      " [16.  25.4 20.1 16.5 26.5 20.9]\n",
      " [18.1 27.5 22.2 20.  28.6 23.7]\n",
      " [21.  28.5 24.2 22.4 30.1 25.8]]\n"
     ]
    }
   ],
   "source": [
    "reshaped_array = np.resize(dados_climaticos_rio, (6, 6))\n",
    "print(\"Array redimensionado para (6, 6):\\n\", reshaped_array)"
   ]
  },
  {
   "cell_type": "markdown",
   "id": "a3cc7664",
   "metadata": {},
   "source": [
    "### `transpose`\n",
    "Inverte as dimensões do array original, transformando `(12, 3)` em `(3, 12)`."
   ]
  },
  {
   "cell_type": "code",
   "execution_count": 14,
   "id": "fdd0aced",
   "metadata": {},
   "outputs": [
    {
     "name": "stdout",
     "output_type": "stream",
     "text": [
      "\n",
      "Array transposto (shape: (3, 12)):\n",
      " [[23.3 23.3 22.7 21.1 18.2 16.8 16.  16.5 18.1 20.  21.  22.4]\n",
      " [31.2 31.7 30.2 28.5 26.2 25.8 25.4 26.5 27.5 28.6 28.5 30.1]\n",
      " [26.7 27.  25.9 24.3 21.8 20.8 20.1 20.9 22.2 23.7 24.2 25.8]]\n"
     ]
    }
   ],
   "source": [
    "array_transposto = dados_climaticos_rio.T\n",
    "print(\"\\nArray transposto (shape: {}):\\n\".format(array_transposto.shape), array_transposto)"
   ]
  },
  {
   "cell_type": "markdown",
   "id": "beeb1644",
   "metadata": {},
   "source": [
    "### `concatenate`\n",
    "Junta (concatena) o array original com ele mesmo ao longo do eixo das linhas (`axis=0`), efetivamente duplicando as linhas."
   ]
  },
  {
   "cell_type": "code",
   "execution_count": 15,
   "id": "d060448b",
   "metadata": {},
   "outputs": [
    {
     "name": "stdout",
     "output_type": "stream",
     "text": [
      "Array concatenado verticalmente (shape: (24, 3)):\n",
      " [[23.3 31.2 26.7]\n",
      " [23.3 31.7 27. ]\n",
      " [22.7 30.2 25.9]\n",
      " [21.1 28.5 24.3]\n",
      " [18.2 26.2 21.8]\n",
      " [16.8 25.8 20.8]\n",
      " [16.  25.4 20.1]\n",
      " [16.5 26.5 20.9]\n",
      " [18.1 27.5 22.2]\n",
      " [20.  28.6 23.7]\n",
      " [21.  28.5 24.2]\n",
      " [22.4 30.1 25.8]\n",
      " [23.3 31.2 26.7]\n",
      " [23.3 31.7 27. ]\n",
      " [22.7 30.2 25.9]\n",
      " [21.1 28.5 24.3]\n",
      " [18.2 26.2 21.8]\n",
      " [16.8 25.8 20.8]\n",
      " [16.  25.4 20.1]\n",
      " [16.5 26.5 20.9]\n",
      " [18.1 27.5 22.2]\n",
      " [20.  28.6 23.7]\n",
      " [21.  28.5 24.2]\n",
      " [22.4 30.1 25.8]]\n"
     ]
    }
   ],
   "source": [
    "array_concatenado = np.concatenate((dados_climaticos_rio, dados_climaticos_rio), axis=0)\n",
    "print(\"Array concatenado verticalmente (shape: {}):\\n\".format(array_concatenado.shape), array_concatenado)"
   ]
  },
  {
   "cell_type": "markdown",
   "id": "a9b9ab20",
   "metadata": {},
   "source": [
    "### `split`\n",
    "Divide o array original em 3 arrays menores de mesmo tamanho."
   ]
  },
  {
   "cell_type": "code",
   "execution_count": 16,
   "id": "bd19b25e",
   "metadata": {},
   "outputs": [
    {
     "name": "stdout",
     "output_type": "stream",
     "text": [
      "Array dividido em 3 partes:\n",
      "\n",
      "Parte 1:\n",
      " [[23.3 31.2 26.7]\n",
      " [23.3 31.7 27. ]\n",
      " [22.7 30.2 25.9]\n",
      " [21.1 28.5 24.3]]\n",
      "\n",
      "Parte 2:\n",
      " [[18.2 26.2 21.8]\n",
      " [16.8 25.8 20.8]\n",
      " [16.  25.4 20.1]\n",
      " [16.5 26.5 20.9]]\n",
      "\n",
      "Parte 3:\n",
      " [[18.1 27.5 22.2]\n",
      " [20.  28.6 23.7]\n",
      " [21.  28.5 24.2]\n",
      " [22.4 30.1 25.8]]\n"
     ]
    }
   ],
   "source": [
    "arrays_divididos = np.split(dados_climaticos_rio, 3)\n",
    "print(\"Array dividido em 3 partes:\")\n",
    "for i, arr in enumerate(arrays_divididos):\n",
    "    print(f\"\\nParte {i+1}:\\n\", arr)"
   ]
  },
  {
   "cell_type": "markdown",
   "id": "7e245500",
   "metadata": {},
   "source": [
    "### `flip`\n",
    "Inverte a ordem dos elementos ao longo de um eixo. Aqui, invertemos a ordem das linhas (`axis=0`)."
   ]
  },
  {
   "cell_type": "code",
   "execution_count": 17,
   "id": "16752b1e",
   "metadata": {},
   "outputs": [
    {
     "name": "stdout",
     "output_type": "stream",
     "text": [
      "Array com a ordem das linhas invertida:\n",
      " [[22.4 30.1 25.8]\n",
      " [21.  28.5 24.2]\n",
      " [20.  28.6 23.7]\n",
      " [18.1 27.5 22.2]\n",
      " [16.5 26.5 20.9]\n",
      " [16.  25.4 20.1]\n",
      " [16.8 25.8 20.8]\n",
      " [18.2 26.2 21.8]\n",
      " [21.1 28.5 24.3]\n",
      " [22.7 30.2 25.9]\n",
      " [23.3 31.7 27. ]\n",
      " [23.3 31.2 26.7]]\n"
     ]
    }
   ],
   "source": [
    "array_invertido = np.flip(dados_climaticos_rio, axis=0)\n",
    "print(\"Array com a ordem das linhas invertida:\\n\", array_invertido)"
   ]
  },
  {
   "cell_type": "markdown",
   "id": "b17ab803",
   "metadata": {},
   "source": [
    "### `insert`\n",
    "Insere uma coluna de zeros na posição de índice 1 (`axis=1`).\n"
   ]
  },
  {
   "cell_type": "code",
   "execution_count": 18,
   "id": "178f284b",
   "metadata": {},
   "outputs": [
    {
     "name": "stdout",
     "output_type": "stream",
     "text": [
      "Array com coluna de zeros inserida:\n",
      " [[23.3  0.  31.2 26.7]\n",
      " [23.3  0.  31.7 27. ]\n",
      " [22.7  0.  30.2 25.9]\n",
      " [21.1  0.  28.5 24.3]\n",
      " [18.2  0.  26.2 21.8]\n",
      " [16.8  0.  25.8 20.8]\n",
      " [16.   0.  25.4 20.1]\n",
      " [16.5  0.  26.5 20.9]\n",
      " [18.1  0.  27.5 22.2]\n",
      " [20.   0.  28.6 23.7]\n",
      " [21.   0.  28.5 24.2]\n",
      " [22.4  0.  30.1 25.8]]\n"
     ]
    }
   ],
   "source": [
    "array_com_insercao = np.insert(dados_climaticos_rio, 1, 0, axis=1)\n",
    "print(\"Array com coluna de zeros inserida:\\n\", array_com_insercao)"
   ]
  },
  {
   "cell_type": "markdown",
   "id": "ec9836dd",
   "metadata": {},
   "source": [
    "### `append`\n",
    "Adiciona uma nova linha com os valores `[0, 0, 0]` ao final do array."
   ]
  },
  {
   "cell_type": "code",
   "execution_count": 19,
   "id": "f4217726",
   "metadata": {},
   "outputs": [
    {
     "name": "stdout",
     "output_type": "stream",
     "text": [
      "Array com nova linha adicionada ao final:\n",
      " [[23.3 31.2 26.7]\n",
      " [23.3 31.7 27. ]\n",
      " [22.7 30.2 25.9]\n",
      " [21.1 28.5 24.3]\n",
      " [18.2 26.2 21.8]\n",
      " [16.8 25.8 20.8]\n",
      " [16.  25.4 20.1]\n",
      " [16.5 26.5 20.9]\n",
      " [18.1 27.5 22.2]\n",
      " [20.  28.6 23.7]\n",
      " [21.  28.5 24.2]\n",
      " [22.4 30.1 25.8]\n",
      " [ 0.   0.   0. ]]\n"
     ]
    }
   ],
   "source": [
    "nova_linha = np.array([[0, 0, 0]])\n",
    "array_com_append = np.append(dados_climaticos_rio, nova_linha, axis=0)\n",
    "print(\"Array com nova linha adicionada ao final:\\n\", array_com_append)"
   ]
  },
  {
   "cell_type": "markdown",
   "id": "b4cef047",
   "metadata": {},
   "source": [
    "### `delete`\n",
    "Remove a segunda coluna (índice 1), que corresponde às temperaturas máximas."
   ]
  },
  {
   "cell_type": "code",
   "execution_count": 20,
   "id": "ddb6bdd6",
   "metadata": {},
   "outputs": [
    {
     "name": "stdout",
     "output_type": "stream",
     "text": [
      "Array com a segunda coluna (temp. máxima) removida:\n",
      " [[23.3 26.7]\n",
      " [23.3 27. ]\n",
      " [22.7 25.9]\n",
      " [21.1 24.3]\n",
      " [18.2 21.8]\n",
      " [16.8 20.8]\n",
      " [16.  20.1]\n",
      " [16.5 20.9]\n",
      " [18.1 22.2]\n",
      " [20.  23.7]\n",
      " [21.  24.2]\n",
      " [22.4 25.8]]\n"
     ]
    }
   ],
   "source": [
    "array_com_delecao = np.delete(dados_climaticos_rio, 1, axis=1)\n",
    "print(\"Array com a segunda coluna (temp. máxima) removida:\\n\", array_com_delecao)"
   ]
  }
 ],
 "metadata": {
  "kernelspec": {
   "display_name": "analise_clima",
   "language": "python",
   "name": "python3"
  },
  "language_info": {
   "codemirror_mode": {
    "name": "ipython",
    "version": 3
   },
   "file_extension": ".py",
   "mimetype": "text/x-python",
   "name": "python",
   "nbconvert_exporter": "python",
   "pygments_lexer": "ipython3",
   "version": "3.10.18"
  }
 },
 "nbformat": 4,
 "nbformat_minor": 5
}
