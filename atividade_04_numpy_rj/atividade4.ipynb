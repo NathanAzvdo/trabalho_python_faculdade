{
 "cells": [
  {
   "cell_type": "markdown",
   "id": "137e5ded",
   "metadata": {},
   "source": [
    "4) Aplicação da biblioteca NumPy: crie um arquivo ASCII com as temperaturas mínima, máxima e média para cidade \n",
    "Rio de Janeiro (arquivo “Dados_climaticos_historicos.xlsx”), organizado por colunas. Assim, demonstre o comando \n",
    "numpy.loadtxt para carga de dados e geração de um NumPy array de dimensão: 12 x 3 (12 linhas de registro mensais \n",
    "por 3 colunas de temperaturas).       Em seguida, realize print certificando a dimensão (shape) do array, a ocorrência \n",
    "do máximo e mínimo valor na coluna de temperatura média. Após, simule as seguintes operações: argsort, reshape, \n",
    "transpose, concatenate, split, flip, insert, append, delete."
   ]
  },
  {
   "cell_type": "markdown",
   "id": "d3c97feb",
   "metadata": {},
   "source": [
    "## Importação de bibliotecas\n",
    "Utilizamos:\n",
    "- **openpyxl** para leitura do arquivo Excel;\n",
    "- **numpy** para manipulação dos dados numéricos.\n"
   ]
  },
  {
   "cell_type": "code",
   "execution_count": 14,
   "id": "13f183a8",
   "metadata": {},
   "outputs": [],
   "source": [
    "import openpyxl\n",
    "import numpy as np"
   ]
  },
  {
   "cell_type": "markdown",
   "id": "a072c336",
   "metadata": {},
   "source": [
    "## Leitura do arquivo Excel\n",
    "Selecionamos a planilha `Historico_Clima_Rio_de_Janeiro` e extraímos:\n",
    "- Linha 4 → nomes dos meses\n",
    "- Linha 5 → temperaturas médias\n",
    "- Linha 6 → temperaturas mínimas\n",
    "- Linha 7 → temperaturas máximas\n"
   ]
  },
  {
   "cell_type": "code",
   "execution_count": 15,
   "id": "7bae3a78",
   "metadata": {},
   "outputs": [],
   "source": [
    "arquivo_excel = '../Dados_climaticos_historicos.xlsx'\n",
    "nome_planilha = 'Historico_Clima_Rio_de_Janeiro'\n",
    "\n",
    "workbook = openpyxl.load_workbook(arquivo_excel)\n",
    "planilha = workbook[nome_planilha]\n",
    "\n",
    "linha_meses = []\n",
    "for celula in planilha[4][1:]:\n",
    "    linha_meses.append(celula.value)\n",
    "\n",
    "linha_media = []\n",
    "for celula in planilha[5][1:]:\n",
    "    linha_media.append(celula.value)\n",
    "\n",
    "linha_minima = []\n",
    "for celula in planilha[6][1:]:\n",
    "    linha_minima.append(celula.value)\n",
    "\n",
    "linha_maxima = []\n",
    "for celula in planilha[7][1:]:\n",
    "    linha_maxima.append(celula.value)"
   ]
  },
  {
   "cell_type": "markdown",
   "id": "8cdf8773",
   "metadata": {},
   "source": [
    "## Escrita em arquivo TXT\n",
    "Criamos um arquivo `Dados_climaticos_historicos.txt` contendo as temperaturas mínimas, máximas e médias,\n",
    "organizadas em **colunas**.\n"
   ]
  },
  {
   "cell_type": "code",
   "execution_count": 16,
   "id": "cf80d9df",
   "metadata": {},
   "outputs": [
    {
     "name": "stdout",
     "output_type": "stream",
     "text": [
      "Arquivo 'Dados_climaticos_historicos_rio.txt' gerado com sucesso a partir do Excel!\n"
     ]
    }
   ],
   "source": [
    "nome_arquivo_txt = 'Dados_climaticos_historicos_rio.txt'\n",
    "\n",
    "with open(nome_arquivo_txt, mode='w', encoding='utf-8') as arquivo_txt:\n",
    "    arquivo_txt.write(\"Mes\\tMinima\\tMaxima\\tMedia\\n\")\n",
    "\n",
    "    for i in range(len(linha_meses)):\n",
    "        mes = linha_meses[i]\n",
    "        minima = linha_minima[i]\n",
    "        maxima = linha_maxima[i]\n",
    "        media = linha_media[i]\n",
    "\n",
    "        arquivo_txt.write(f\"{mes}\\t{minima}\\t{maxima}\\t{media}\\n\")\n",
    "\n",
    "print(f\"Arquivo '{nome_arquivo_txt}' gerado com sucesso a partir do Excel!\")"
   ]
  },
  {
   "cell_type": "markdown",
   "id": "a593e376",
   "metadata": {},
   "source": [
    "## Carregando os dados no NumPy\n",
    "Utilizamos o comando `numpy.loadtxt` para carregar as 3 colunas do arquivo TXT.\n",
    "\n",
    "- `skiprows=1` → pula o cabeçalho\n",
    "- `usecols=(1,2,3)` → carrega apenas as colunas numéricas\n",
    "- `unpack=True` → retorna as colunas separadas\n",
    "\n",
    "Depois aplicamos `transpose` para obter o array no formato `(12,3)`.\n"
   ]
  },
  {
   "cell_type": "code",
   "execution_count": 17,
   "id": "d3553cdf",
   "metadata": {},
   "outputs": [
    {
     "name": "stdout",
     "output_type": "stream",
     "text": [
      "(12, 3)\n"
     ]
    }
   ],
   "source": [
    "array = np.loadtxt(nome_arquivo_txt, skiprows=1, usecols=(1, 2, 3), unpack=True)\n",
    "array_transposed = array.T\n",
    "print(array_transposed.shape)"
   ]
  },
  {
   "cell_type": "markdown",
   "id": "91635fe1",
   "metadata": {},
   "source": [
    "## Máximo e mínimo da coluna de médias\n",
    "Aqui identificamos a maior e a menor temperatura média no período analisado.\n"
   ]
  },
  {
   "cell_type": "code",
   "execution_count": 18,
   "id": "0abb5b0c",
   "metadata": {},
   "outputs": [
    {
     "name": "stdout",
     "output_type": "stream",
     "text": [
      "Maior valor da temperatura média: 27.0\n",
      "Menor valor da temperatura média: 20.1\n"
     ]
    }
   ],
   "source": [
    "maior_media = np.max(array_transposed[:, 2])\n",
    "menor_media = np.min(array_transposed[:, 2])\n",
    "\n",
    "print(f\"Maior valor da temperatura média: {maior_media}\")\n",
    "print(f\"Menor valor da temperatura média: {menor_media}\")"
   ]
  },
  {
   "cell_type": "markdown",
   "id": "b2fadfb9",
   "metadata": {},
   "source": [
    "## Operações NumPy\n",
    "A seguir, aplicamos diversos métodos para praticar manipulação de arrays.\n"
   ]
  },
  {
   "cell_type": "markdown",
   "id": "6f0788c7",
   "metadata": {},
   "source": [
    "### `argsort`\n",
    "Retorna os índices que ordenam a coluna de médias.\n"
   ]
  },
  {
   "cell_type": "code",
   "execution_count": 19,
   "id": "51747711",
   "metadata": {},
   "outputs": [
    {
     "name": "stdout",
     "output_type": "stream",
     "text": [
      "Índices ordenados pela temperatura média: [ 6  5  7  4  8  9 10  3 11  2  0  1]\n"
     ]
    }
   ],
   "source": [
    "\n",
    "indices_argsort_media = np.argsort(array_transposed[:, 2])\n",
    "print(\"Índices ordenados pela temperatura média:\", indices_argsort_media)"
   ]
  },
  {
   "cell_type": "markdown",
   "id": "9c984b95",
   "metadata": {},
   "source": [
    "### `reshape`\n",
    "Transformamos o array em um novo formato `6x6` (usando `resize` para preencher).\n"
   ]
  },
  {
   "cell_type": "code",
   "execution_count": 20,
   "id": "4c27fbdb",
   "metadata": {},
   "outputs": [
    {
     "name": "stdout",
     "output_type": "stream",
     "text": [
      "Array reshape 6x6:\n",
      " [[23.3 31.2 26.7 23.3 31.7 27. ]\n",
      " [22.7 30.2 25.9 21.1 28.5 24.3]\n",
      " [18.2 26.2 21.8 16.8 25.8 20.8]\n",
      " [16.  25.4 20.1 16.5 26.5 20.9]\n",
      " [18.1 27.5 22.2 20.  28.6 23.7]\n",
      " [21.  28.5 24.2 22.4 30.1 25.8]]\n"
     ]
    }
   ],
   "source": [
    "reshaped_array = np.resize(array_transposed, (6, 6))\n",
    "print(\"Array reshape 6x6:\\n\", reshaped_array)"
   ]
  },
  {
   "cell_type": "markdown",
   "id": "346ae60c",
   "metadata": {},
   "source": [
    "### `transpose`\n",
    "Já aplicamos no carregamento, mas aqui reforçamos: inverte linhas ↔ colunas.\n"
   ]
  },
  {
   "cell_type": "markdown",
   "id": "b83e6c0b",
   "metadata": {},
   "source": [
    "### `concatenate`\n",
    "Concatenamos o array com ele mesmo na vertical.\n"
   ]
  },
  {
   "cell_type": "code",
   "execution_count": 21,
   "id": "e74bf01f",
   "metadata": {},
   "outputs": [
    {
     "name": "stdout",
     "output_type": "stream",
     "text": [
      "Array concatenado verticalmente:\n",
      " [[23.3 31.2 26.7]\n",
      " [23.3 31.7 27. ]\n",
      " [22.7 30.2 25.9]\n",
      " [21.1 28.5 24.3]\n",
      " [18.2 26.2 21.8]\n",
      " [16.8 25.8 20.8]\n",
      " [16.  25.4 20.1]\n",
      " [16.5 26.5 20.9]\n",
      " [18.1 27.5 22.2]\n",
      " [20.  28.6 23.7]\n",
      " [21.  28.5 24.2]\n",
      " [22.4 30.1 25.8]\n",
      " [23.3 31.2 26.7]\n",
      " [23.3 31.7 27. ]\n",
      " [22.7 30.2 25.9]\n",
      " [21.1 28.5 24.3]\n",
      " [18.2 26.2 21.8]\n",
      " [16.8 25.8 20.8]\n",
      " [16.  25.4 20.1]\n",
      " [16.5 26.5 20.9]\n",
      " [18.1 27.5 22.2]\n",
      " [20.  28.6 23.7]\n",
      " [21.  28.5 24.2]\n",
      " [22.4 30.1 25.8]]\n"
     ]
    }
   ],
   "source": [
    "# concatenate: concatena array_transposed com ele mesmo na vertical\n",
    "concatenated_array = np.concatenate((array_transposed, array_transposed), axis=0)\n",
    "print(\"Array concatenado verticalmente:\\n\", concatenated_array)"
   ]
  },
  {
   "cell_type": "markdown",
   "id": "bced2199",
   "metadata": {},
   "source": [
    "### `split`\n",
    "Dividimos o array original em 3 partes iguais.\n"
   ]
  },
  {
   "cell_type": "code",
   "execution_count": 22,
   "id": "7c099542",
   "metadata": {},
   "outputs": [
    {
     "name": "stdout",
     "output_type": "stream",
     "text": [
      "Arrays divididos em 3 partes:\n",
      "Parte 1:\n",
      " [[23.3 31.2 26.7]\n",
      " [23.3 31.7 27. ]\n",
      " [22.7 30.2 25.9]\n",
      " [21.1 28.5 24.3]]\n",
      "Parte 2:\n",
      " [[18.2 26.2 21.8]\n",
      " [16.8 25.8 20.8]\n",
      " [16.  25.4 20.1]\n",
      " [16.5 26.5 20.9]]\n",
      "Parte 3:\n",
      " [[18.1 27.5 22.2]\n",
      " [20.  28.6 23.7]\n",
      " [21.  28.5 24.2]\n",
      " [22.4 30.1 25.8]]\n"
     ]
    }
   ],
   "source": [
    "split_arrays = np.split(array_transposed, 3)\n",
    "print(\"Arrays divididos em 3 partes:\")\n",
    "for idx, arr in enumerate(split_arrays):\n",
    "    print(f\"Parte {idx+1}:\\n\", arr)\n"
   ]
  },
  {
   "cell_type": "markdown",
   "id": "30e853fe",
   "metadata": {},
   "source": [
    "### `flip`\n",
    "Invertemos a ordem das linhas do array.\n"
   ]
  },
  {
   "cell_type": "code",
   "execution_count": 23,
   "id": "2d7f7922",
   "metadata": {},
   "outputs": [
    {
     "name": "stdout",
     "output_type": "stream",
     "text": [
      "Array invertido nas linhas:\n",
      " [[22.4 30.1 25.8]\n",
      " [21.  28.5 24.2]\n",
      " [20.  28.6 23.7]\n",
      " [18.1 27.5 22.2]\n",
      " [16.5 26.5 20.9]\n",
      " [16.  25.4 20.1]\n",
      " [16.8 25.8 20.8]\n",
      " [18.2 26.2 21.8]\n",
      " [21.1 28.5 24.3]\n",
      " [22.7 30.2 25.9]\n",
      " [23.3 31.7 27. ]\n",
      " [23.3 31.2 26.7]]\n"
     ]
    }
   ],
   "source": [
    "flipped_array = np.flip(array_transposed, axis=0)\n",
    "print(\"Array invertido nas linhas:\\n\", flipped_array)"
   ]
  },
  {
   "cell_type": "markdown",
   "id": "475895e5",
   "metadata": {},
   "source": [
    "### `insert`\n",
    "Inserimos uma coluna de zeros na posição 1.\n"
   ]
  },
  {
   "cell_type": "code",
   "execution_count": 24,
   "id": "77314b16",
   "metadata": {},
   "outputs": [
    {
     "name": "stdout",
     "output_type": "stream",
     "text": [
      "Array com coluna de zeros inserida na posição 1:\n",
      " [[23.3  0.  31.2 26.7]\n",
      " [23.3  0.  31.7 27. ]\n",
      " [22.7  0.  30.2 25.9]\n",
      " [21.1  0.  28.5 24.3]\n",
      " [18.2  0.  26.2 21.8]\n",
      " [16.8  0.  25.8 20.8]\n",
      " [16.   0.  25.4 20.1]\n",
      " [16.5  0.  26.5 20.9]\n",
      " [18.1  0.  27.5 22.2]\n",
      " [20.   0.  28.6 23.7]\n",
      " [21.   0.  28.5 24.2]\n",
      " [22.4  0.  30.1 25.8]]\n"
     ]
    }
   ],
   "source": [
    "inserted_array = np.insert(array_transposed, 1, 0, axis=1)\n",
    "print(\"Array com coluna de zeros inserida na posição 1:\\n\", inserted_array)"
   ]
  },
  {
   "cell_type": "markdown",
   "id": "1aa32f72",
   "metadata": {},
   "source": [
    "### `append`\n",
    "Adicionamos uma nova linha `[0,0,0]` ao final do array.\n"
   ]
  },
  {
   "cell_type": "code",
   "execution_count": 25,
   "id": "c687625b",
   "metadata": {},
   "outputs": [
    {
     "name": "stdout",
     "output_type": "stream",
     "text": [
      "Array com nova linha adicionada:\n",
      " [[23.3 31.2 26.7]\n",
      " [23.3 31.7 27. ]\n",
      " [22.7 30.2 25.9]\n",
      " [21.1 28.5 24.3]\n",
      " [18.2 26.2 21.8]\n",
      " [16.8 25.8 20.8]\n",
      " [16.  25.4 20.1]\n",
      " [16.5 26.5 20.9]\n",
      " [18.1 27.5 22.2]\n",
      " [20.  28.6 23.7]\n",
      " [21.  28.5 24.2]\n",
      " [22.4 30.1 25.8]\n",
      " [ 0.   0.   0. ]]\n"
     ]
    }
   ],
   "source": [
    "nova_linha = np.array([[0, 0, 0]])\n",
    "appended_array = np.append(array_transposed, nova_linha, axis=0)\n",
    "print(\"Array com nova linha adicionada:\\n\", appended_array)"
   ]
  },
  {
   "cell_type": "markdown",
   "id": "4dc261d6",
   "metadata": {},
   "source": [
    "### `delete`\n",
    "Removemos a segunda coluna (índice 1).\n"
   ]
  },
  {
   "cell_type": "code",
   "execution_count": 26,
   "id": "2d802d72",
   "metadata": {},
   "outputs": [
    {
     "name": "stdout",
     "output_type": "stream",
     "text": [
      "Array com segunda coluna removida:\n",
      " [[23.3 26.7]\n",
      " [23.3 27. ]\n",
      " [22.7 25.9]\n",
      " [21.1 24.3]\n",
      " [18.2 21.8]\n",
      " [16.8 20.8]\n",
      " [16.  20.1]\n",
      " [16.5 20.9]\n",
      " [18.1 22.2]\n",
      " [20.  23.7]\n",
      " [21.  24.2]\n",
      " [22.4 25.8]]\n"
     ]
    }
   ],
   "source": [
    "deleted_array = np.delete(array_transposed, 1, axis=1)\n",
    "print(\"Array com segunda coluna removida:\\n\", deleted_array)"
   ]
  }
 ],
 "metadata": {
  "kernelspec": {
   "display_name": "analise_clima",
   "language": "python",
   "name": "python3"
  },
  "language_info": {
   "codemirror_mode": {
    "name": "ipython",
    "version": 3
   },
   "file_extension": ".py",
   "mimetype": "text/x-python",
   "name": "python",
   "nbconvert_exporter": "python",
   "pygments_lexer": "ipython3",
   "version": "3.10.18"
  }
 },
 "nbformat": 4,
 "nbformat_minor": 5
}
