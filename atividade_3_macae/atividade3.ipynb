{
 "cells": [
  {
   "cell_type": "markdown",
   "id": "324c9a5c",
   "metadata": {},
   "source": [
    "3) Com base nos dados públicos da série histórica climática no arquivo “Dados_climaticos_historicos.xlsx”, aba da \n",
    "cidade  Macaé,  monte  um  arquivo  ASCII  (txt)  organizado  em  colunas  de  dados:  meses,  temperaturas  mínima, \n",
    "máxima e média. Após, use o comando open para realizar a leitura de dados, a fim de instanciar 4 listas: uma com \n",
    "os 12 meses, e as outras para as temperaturas mínima, máxima e média. Em seguida, demonstre: como montar um \n",
    "dicionário  de  dados  formado  a  partir  destas  4  listas,  exibindo  seu  conteúdo;  e,  depois  como  fazer  para  exibir  a \n",
    "temperatura média do mês de julho. Por fim, realize um plot (gráfico cartesiano) mostrando todas as temperaturas \n",
    "nos meses.  \n",
    "> Objetiva técnicas de leitura de arquivo ASCII, listas (list), dicionários (data dictionary) e geração de gráfico cartesiano \n",
    "simples (plot)."
   ]
  },
  {
   "cell_type": "markdown",
   "id": "ab89caa9",
   "metadata": {},
   "source": [
    "## 1. Importação das Bibliotecas\n",
    "\n",
    "Nesta etapa, vamos importar a biblioteca `pandas`, que é essencial para manipulação e análise de dados em Python."
   ]
  },
  {
   "cell_type": "code",
   "execution_count": 29,
   "id": "e9a99f53",
   "metadata": {},
   "outputs": [],
   "source": [
    "#importando bibliotecas utilizadas nessa análise\n",
    "import pandas as pd\n",
    "import matplotlib.pyplot as plt\n",
    "import csv\n"
   ]
  },
  {
   "cell_type": "markdown",
   "id": "001a3b2c",
   "metadata": {},
   "source": [
    "## 2. Limpeza e Processamento\n",
    "\n",
    "* Ler a planilha específica do arquivo Excel.\n",
    "* Ignorar o cabeçalho informativo.\n",
    "* Selecionar apenas as métricas de interesse.\n",
    "* Transpor a tabela para que os meses se tornem linhas.\n",
    "* Renomear as colunas para nomes mais limpos e padronizados."
   ]
  },
  {
   "cell_type": "code",
   "execution_count": null,
   "id": "b4f71f96",
   "metadata": {},
   "outputs": [
    {
     "name": "stdout",
     "output_type": "stream",
     "text": [
      "Processamento concluído com sucesso!\n"
     ]
    }
   ],
   "source": [
    "df = pd.read_excel(\n",
    "    \"../Dados_climaticos_historicos.xlsx\", \n",
    "    sheet_name=\"Historico_Clima_Macae\", \n",
    "    skiprows=3,\n",
    "    index_col=0,\n",
    "    engine=\"openpyxl\"\n",
    ")\n",
    "\n",
    "df = df.iloc[:6, :]\n",
    "# 2. Transpor o DataFrame.\n",
    "#    Agora os meses são as linhas e as métricas são as colunas.\n",
    "\n",
    "df_transposto = df.T\n",
    "\n",
    "# 3. Limpar e renomear as colunas para nomes mais simples.\n",
    "df_transposto.columns = [\n",
    "    \"Media_Temp_C\", \n",
    "    \"Minima_Temp_C\", \n",
    "    \"Maxima_Temp_C\", \n",
    "    \"Chuva_mm\", \n",
    "    \"Umidade_Percent\", \n",
    "    \"Dias chuvosos\",\n",
    "]\n",
    "\n",
    "\n",
    "print(\"Processamento concluído com sucesso!\")"
   ]
  },
  {
   "cell_type": "markdown",
   "id": "2ad7d1cb",
   "metadata": {},
   "source": [
    "## 3. Resultado Final\n",
    "\n",
    "Por fim, a tabela consolidada é exibida e salva em um arquivo CSV para uso futuro."
   ]
  },
  {
   "cell_type": "code",
   "execution_count": 45,
   "id": "8572b4c0",
   "metadata": {},
   "outputs": [
    {
     "name": "stdout",
     "output_type": "stream",
     "text": [
      "           Media_Temp_C  Minima_Temp_C  Maxima_Temp_C  Chuva_mm  \\\n",
      "Janeiro            25.8           23.5           29.1     175.0   \n",
      "Fevereiro          26.0           23.6           29.5     105.0   \n",
      "Março              25.5           23.3           28.5     154.0   \n",
      "Abril              24.1           21.9           27.1      85.0   \n",
      "Maio               22.0           19.6           25.0      60.0   \n",
      "Junho              21.2           18.5           24.5      31.0   \n",
      "Julho              20.7           17.9           24.2      32.0   \n",
      "Agosto             21.0           18.3           24.7      32.0   \n",
      "Setembro           21.8           19.2           25.5      66.0   \n",
      "Outubro            22.9           20.5           26.4      98.0   \n",
      "Novembro           23.5           21.4           26.5     186.0   \n",
      "Dezembro           24.9           22.7           28.0     198.0   \n",
      "\n",
      "           Umidade_Percent  Dias chuvosos  \n",
      "Janeiro               0.81           11.0  \n",
      "Fevereiro             0.81            9.0  \n",
      "Março                 0.83           12.0  \n",
      "Abril                 0.82           10.0  \n",
      "Maio                  0.80            8.0  \n",
      "Junho                 0.81            5.0  \n",
      "Julho                 0.79            5.0  \n",
      "Agosto                0.78            5.0  \n",
      "Setembro              0.77            7.0  \n",
      "Outubro               0.79            9.0  \n",
      "Novembro              0.82           13.0  \n",
      "Dezembro              0.83           13.0  \n"
     ]
    }
   ],
   "source": [
    "# (Código para salvar e imprimir o df_final)\n",
    "print(df_transposto)\n",
    "df_transposto.to_csv(\"dados_climaticos_compilados_corrigido.csv\", index=False)"
   ]
  }
 ],
 "metadata": {
  "kernelspec": {
   "display_name": "analise_clima",
   "language": "python",
   "name": "python3"
  },
  "language_info": {
   "codemirror_mode": {
    "name": "ipython",
    "version": 3
   },
   "file_extension": ".py",
   "mimetype": "text/x-python",
   "name": "python",
   "nbconvert_exporter": "python",
   "pygments_lexer": "ipython3",
   "version": "3.10.18"
  }
 },
 "nbformat": 4,
 "nbformat_minor": 5
}
